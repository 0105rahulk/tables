{
 "cells": [
  {
   "cell_type": "code",
   "execution_count": 1,
   "metadata": {},
   "outputs": [],
   "source": [
    "import openai\n",
    "import pandas as pd\n",
    "import json\n",
    "from hana_ml.dataframe import ConnectionContext\n",
    "from dotenv import load_dotenv\n",
    "import os"
   ]
  },
  {
   "cell_type": "code",
   "execution_count": 2,
   "metadata": {},
   "outputs": [],
   "source": [
    "load_dotenv()\n",
    "\n",
    "# Connection constants\n",
    "dbHost = os.getenv('DB_HOST')\n",
    "dbPort = 443\n",
    "dbUser = os.getenv('DB_USER')\n",
    "dbPwd = os.getenv('DB_PASS')\n",
    "dbIngestionSchema = \"DKTEST#PYTHON\"\n",
    "dbConsumptionSchema = \"DKTEST\"\n",
    "dbTable = \"COUNTRIES_BY_GDP\""
   ]
  },
  {
   "cell_type": "code",
   "execution_count": 3,
   "metadata": {},
   "outputs": [],
   "source": [
    "# Connect to OpenAI API\n",
    "openai.organization = os.getenv('OPENAI_ORGANIZATION')\n",
    "openai.api_key = os.getenv('OPENAI_API_KEY')\n",
    "#openai.Model.list()"
   ]
  },
  {
   "cell_type": "code",
   "execution_count": 4,
   "metadata": {},
   "outputs": [],
   "source": [
    "# Connect to HANA Cloud\n",
    "cc=ConnectionContext(dbHost, dbPort, dbUser, dbPwd, encrypt=True, sslValidateCertificate=False)"
   ]
  },
  {
   "cell_type": "code",
   "execution_count": 5,
   "metadata": {},
   "outputs": [
    {
     "data": {
      "text/plain": [
       "{'COUNTRY': ['United States',\n",
       "  'China',\n",
       "  'Japan',\n",
       "  'Germany',\n",
       "  'India',\n",
       "  'United Kingdom',\n",
       "  'France',\n",
       "  'Canada',\n",
       "  'Russia',\n",
       "  'Italy',\n",
       "  'United States',\n",
       "  'China',\n",
       "  'Japan',\n",
       "  'Germany',\n",
       "  'India',\n",
       "  'United Kingdom',\n",
       "  'France',\n",
       "  'Canada',\n",
       "  'Russia',\n",
       "  'Italy'],\n",
       " 'REGION': ['Americas',\n",
       "  'Asia',\n",
       "  'Asia',\n",
       "  'Europe',\n",
       "  'Asia',\n",
       "  'Europe',\n",
       "  'Europe',\n",
       "  'Americas',\n",
       "  'Europe',\n",
       "  'Europe',\n",
       "  'Americas',\n",
       "  'Asia',\n",
       "  'Asia',\n",
       "  'Europe',\n",
       "  'Asia',\n",
       "  'Europe',\n",
       "  'Europe',\n",
       "  'Americas',\n",
       "  'Europe',\n",
       "  'Europe'],\n",
       " 'GDP': ['25035164',\n",
       "  '18321197',\n",
       "  '4300621',\n",
       "  '4031149',\n",
       "  '3468566',\n",
       "  '3198470',\n",
       "  '2778090',\n",
       "  '2200352',\n",
       "  '2133092',\n",
       "  '1996934',\n",
       "  '22996100',\n",
       "  '17734063',\n",
       "  '4937422',\n",
       "  '4223116',\n",
       "  '3173398',\n",
       "  '3186860',\n",
       "  '2937473',\n",
       "  '1990762',\n",
       "  '1775800',\n",
       "  '2099880'],\n",
       " 'YEAR': ['2022',\n",
       "  '2022',\n",
       "  '2022',\n",
       "  '2022',\n",
       "  '2022',\n",
       "  '2022',\n",
       "  '2022',\n",
       "  '2022',\n",
       "  '2022',\n",
       "  '2022',\n",
       "  '2021',\n",
       "  '2021',\n",
       "  '2021',\n",
       "  '2021',\n",
       "  '2021',\n",
       "  '2021',\n",
       "  '2021',\n",
       "  '2021',\n",
       "  '2021',\n",
       "  '2021']}"
      ]
     },
     "execution_count": 5,
     "metadata": {},
     "output_type": "execute_result"
    }
   ],
   "source": [
    "table = cc.table(dbTable)\n",
    "df = table.collect()\n",
    "df['GDP'] = df['GDP'].astype(str)\n",
    "#df\n",
    "\n",
    "data_gdp = {}\n",
    "\n",
    "for column in df:\n",
    "    data_gdp[column] = df[column].values.tolist()\n",
    "\n",
    "#data_gdp"
   ]
  },
  {
   "cell_type": "code",
   "execution_count": 32,
   "metadata": {},
   "outputs": [],
   "source": [
    "def apply_model(query):\n",
    "    prompt = \"\"\"Please regard the following table: {}\n",
    "\n",
    "    The table name is COUNTRIES_BY_GDP. Write a SQL query to answer the following question: {}\"\"\".format(json.dumps(data_gdp), query)\n",
    "\n",
    "    request = openai.Completion.create(\n",
    "        model=\"text-davinci-003\",\n",
    "        prompt=prompt,\n",
    "        temperature=0.9,\n",
    "        max_tokens=3500\n",
    "    )\n",
    "    sql_query = request.choices[0].text\n",
    "    print(\"===> {}: {}\\n\".format(query, sql_query))    \n",
    "\n",
    "    df = cc.sql(sql_query)\n",
    "    return df.collect()\n"
   ]
  },
  {
   "cell_type": "code",
   "execution_count": 33,
   "metadata": {},
   "outputs": [
    {
     "name": "stdout",
     "output_type": "stream",
     "text": [
      "===> What is the percentual increase of the US 2022 GDP vs 2021?: \n",
      "\n",
      "SELECT round((((25035164-22996100)*100)/22996100),2) as \"Percentage_Increase_US_GDP\"\n",
      "FROM COUNTRIES_BY_GDP\n",
      "WHERE YEAR = '2022' AND COUNTRY = 'United States';\n",
      "\n",
      "  Percentage_Increase_US_GDP\n",
      "0                       8.87\n"
     ]
    }
   ],
   "source": [
    "# print(apply_model(\"What is the GDP of the United States in 2022?\"))\n",
    "# print(apply_model(\"What is the total GDP of Europe in 2022?\"))\n",
    "# print(apply_model(\"What is the average GDP of all countries in 2022?\"))\n",
    "# print(apply_model(\"What is the GDP of Italy in 2021?\"))\n",
    "# print(apply_model(\"How many distinct countries are there in Asia?\"))\n",
    "# print(apply_model(\"Total European GDP in 2021?\"))\n",
    "# print(apply_model(\"What countries have a GDP higher than 10 million in 2022? (do not use thousands separators)\"))\n",
    "# print(apply_model(\"How much has the total GDP in 2022 increased compared to the total GDP in 2021?\"))\n",
    "print(apply_model(\"What is the percentual increase of the US 2022 GDP vs 2021?\"))\n"
   ]
  },
  {
   "cell_type": "code",
   "execution_count": null,
   "metadata": {},
   "outputs": [],
   "source": []
  }
 ],
 "metadata": {
  "kernelspec": {
   "display_name": "transformers",
   "language": "python",
   "name": "python3"
  },
  "language_info": {
   "codemirror_mode": {
    "name": "ipython",
    "version": 3
   },
   "file_extension": ".py",
   "mimetype": "text/x-python",
   "name": "python",
   "nbconvert_exporter": "python",
   "pygments_lexer": "ipython3",
   "version": "3.8.15 (default, Nov 24 2022, 14:38:14) [MSC v.1916 64 bit (AMD64)]"
  },
  "vscode": {
   "interpreter": {
    "hash": "6553ac87f7c3ed4d80fc74ac15acfb00d26ac3c0e0df24d382c720019769f45c"
   }
  }
 },
 "nbformat": 4,
 "nbformat_minor": 4
}
